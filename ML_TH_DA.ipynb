{
  "nbformat": 4,
  "nbformat_minor": 0,
  "metadata": {
    "colab": {
      "name": "ML-TH-DA.ipynb",
      "provenance": [],
      "collapsed_sections": []
    },
    "kernelspec": {
      "name": "python3",
      "display_name": "Python 3"
    },
    "language_info": {
      "name": "python"
    }
  },
  "cells": [
    {
      "cell_type": "markdown",
      "source": [
        "19BCB0007 - PATIL DARSHAN RAJKUMAR"
      ],
      "metadata": {
        "id": "ZManVkopX6b9"
      }
    },
    {
      "cell_type": "markdown",
      "source": [
        "# **DECISION TREE - REGRESSION** **ON ITALY EARTHQUAKE DATASET**"
      ],
      "metadata": {
        "id": "E8eMFgvpX4bp"
      }
    },
    {
      "cell_type": "code",
      "execution_count": null,
      "metadata": {
        "id": "lsVnWf7jVu8H"
      },
      "outputs": [],
      "source": [
        "import numpy as np\n",
        "import pandas as pd\n",
        "import matplotlib.pyplot as plt\n",
        "from sklearn import tree\n",
        "from sklearn.model_selection import train_test_split\n",
        "from sklearn import metrics\n",
        "import seaborn as sns"
      ]
    },
    {
      "cell_type": "code",
      "source": [
        "from sklearn import tree\n",
        "from sklearn.tree import DecisionTreeRegressor"
      ],
      "metadata": {
        "id": "SH_XhuQzbInW"
      },
      "execution_count": null,
      "outputs": []
    },
    {
      "cell_type": "code",
      "source": [
        "df = pd.read_csv('italy_earthquakes.csv')\n",
        "df"
      ],
      "metadata": {
        "colab": {
          "base_uri": "https://localhost:8080/",
          "height": 424
        },
        "id": "Ir6dlTL0WLCK",
        "outputId": "853d9bee-8361-4941-aa66-e2023da70fc8"
      },
      "execution_count": null,
      "outputs": [
        {
          "output_type": "execute_result",
          "data": {
            "text/plain": [
              "                         Time  Latitude  Longitude  Depth/Km  Magnitude\n",
              "0     2016-08-24 03:36:32.000   42.6983    13.2335       8.1        6.0\n",
              "1     2016-08-24 03:37:26.580   42.7123    13.2533       9.0        4.5\n",
              "2     2016-08-24 03:40:46.590   42.7647    13.1723       9.7        3.8\n",
              "3     2016-08-24 03:41:38.900   42.7803    13.1683       9.7        3.9\n",
              "4     2016-08-24 03:42:07.170   42.7798    13.1575       9.7        3.6\n",
              "...                       ...       ...        ...       ...        ...\n",
              "8081  2016-11-30 18:39:27.600   42.8903    13.0197      10.7        2.0\n",
              "8082  2016-11-30 18:43:14.850   42.9443    13.2003       8.6        2.6\n",
              "8083  2016-11-30 20:18:27.550   43.0092    13.1288       8.0        2.2\n",
              "8084  2016-11-30 20:45:11.780   43.0197    13.1017       9.3        2.7\n",
              "8085  2016-11-30 20:54:35.890   42.9935    13.0753       9.5        2.3\n",
              "\n",
              "[8086 rows x 5 columns]"
            ],
            "text/html": [
              "\n",
              "  <div id=\"df-7cb17486-088a-47e5-8ae9-fc5e8a3ad2c6\">\n",
              "    <div class=\"colab-df-container\">\n",
              "      <div>\n",
              "<style scoped>\n",
              "    .dataframe tbody tr th:only-of-type {\n",
              "        vertical-align: middle;\n",
              "    }\n",
              "\n",
              "    .dataframe tbody tr th {\n",
              "        vertical-align: top;\n",
              "    }\n",
              "\n",
              "    .dataframe thead th {\n",
              "        text-align: right;\n",
              "    }\n",
              "</style>\n",
              "<table border=\"1\" class=\"dataframe\">\n",
              "  <thead>\n",
              "    <tr style=\"text-align: right;\">\n",
              "      <th></th>\n",
              "      <th>Time</th>\n",
              "      <th>Latitude</th>\n",
              "      <th>Longitude</th>\n",
              "      <th>Depth/Km</th>\n",
              "      <th>Magnitude</th>\n",
              "    </tr>\n",
              "  </thead>\n",
              "  <tbody>\n",
              "    <tr>\n",
              "      <th>0</th>\n",
              "      <td>2016-08-24 03:36:32.000</td>\n",
              "      <td>42.6983</td>\n",
              "      <td>13.2335</td>\n",
              "      <td>8.1</td>\n",
              "      <td>6.0</td>\n",
              "    </tr>\n",
              "    <tr>\n",
              "      <th>1</th>\n",
              "      <td>2016-08-24 03:37:26.580</td>\n",
              "      <td>42.7123</td>\n",
              "      <td>13.2533</td>\n",
              "      <td>9.0</td>\n",
              "      <td>4.5</td>\n",
              "    </tr>\n",
              "    <tr>\n",
              "      <th>2</th>\n",
              "      <td>2016-08-24 03:40:46.590</td>\n",
              "      <td>42.7647</td>\n",
              "      <td>13.1723</td>\n",
              "      <td>9.7</td>\n",
              "      <td>3.8</td>\n",
              "    </tr>\n",
              "    <tr>\n",
              "      <th>3</th>\n",
              "      <td>2016-08-24 03:41:38.900</td>\n",
              "      <td>42.7803</td>\n",
              "      <td>13.1683</td>\n",
              "      <td>9.7</td>\n",
              "      <td>3.9</td>\n",
              "    </tr>\n",
              "    <tr>\n",
              "      <th>4</th>\n",
              "      <td>2016-08-24 03:42:07.170</td>\n",
              "      <td>42.7798</td>\n",
              "      <td>13.1575</td>\n",
              "      <td>9.7</td>\n",
              "      <td>3.6</td>\n",
              "    </tr>\n",
              "    <tr>\n",
              "      <th>...</th>\n",
              "      <td>...</td>\n",
              "      <td>...</td>\n",
              "      <td>...</td>\n",
              "      <td>...</td>\n",
              "      <td>...</td>\n",
              "    </tr>\n",
              "    <tr>\n",
              "      <th>8081</th>\n",
              "      <td>2016-11-30 18:39:27.600</td>\n",
              "      <td>42.8903</td>\n",
              "      <td>13.0197</td>\n",
              "      <td>10.7</td>\n",
              "      <td>2.0</td>\n",
              "    </tr>\n",
              "    <tr>\n",
              "      <th>8082</th>\n",
              "      <td>2016-11-30 18:43:14.850</td>\n",
              "      <td>42.9443</td>\n",
              "      <td>13.2003</td>\n",
              "      <td>8.6</td>\n",
              "      <td>2.6</td>\n",
              "    </tr>\n",
              "    <tr>\n",
              "      <th>8083</th>\n",
              "      <td>2016-11-30 20:18:27.550</td>\n",
              "      <td>43.0092</td>\n",
              "      <td>13.1288</td>\n",
              "      <td>8.0</td>\n",
              "      <td>2.2</td>\n",
              "    </tr>\n",
              "    <tr>\n",
              "      <th>8084</th>\n",
              "      <td>2016-11-30 20:45:11.780</td>\n",
              "      <td>43.0197</td>\n",
              "      <td>13.1017</td>\n",
              "      <td>9.3</td>\n",
              "      <td>2.7</td>\n",
              "    </tr>\n",
              "    <tr>\n",
              "      <th>8085</th>\n",
              "      <td>2016-11-30 20:54:35.890</td>\n",
              "      <td>42.9935</td>\n",
              "      <td>13.0753</td>\n",
              "      <td>9.5</td>\n",
              "      <td>2.3</td>\n",
              "    </tr>\n",
              "  </tbody>\n",
              "</table>\n",
              "<p>8086 rows × 5 columns</p>\n",
              "</div>\n",
              "      <button class=\"colab-df-convert\" onclick=\"convertToInteractive('df-7cb17486-088a-47e5-8ae9-fc5e8a3ad2c6')\"\n",
              "              title=\"Convert this dataframe to an interactive table.\"\n",
              "              style=\"display:none;\">\n",
              "        \n",
              "  <svg xmlns=\"http://www.w3.org/2000/svg\" height=\"24px\"viewBox=\"0 0 24 24\"\n",
              "       width=\"24px\">\n",
              "    <path d=\"M0 0h24v24H0V0z\" fill=\"none\"/>\n",
              "    <path d=\"M18.56 5.44l.94 2.06.94-2.06 2.06-.94-2.06-.94-.94-2.06-.94 2.06-2.06.94zm-11 1L8.5 8.5l.94-2.06 2.06-.94-2.06-.94L8.5 2.5l-.94 2.06-2.06.94zm10 10l.94 2.06.94-2.06 2.06-.94-2.06-.94-.94-2.06-.94 2.06-2.06.94z\"/><path d=\"M17.41 7.96l-1.37-1.37c-.4-.4-.92-.59-1.43-.59-.52 0-1.04.2-1.43.59L10.3 9.45l-7.72 7.72c-.78.78-.78 2.05 0 2.83L4 21.41c.39.39.9.59 1.41.59.51 0 1.02-.2 1.41-.59l7.78-7.78 2.81-2.81c.8-.78.8-2.07 0-2.86zM5.41 20L4 18.59l7.72-7.72 1.47 1.35L5.41 20z\"/>\n",
              "  </svg>\n",
              "      </button>\n",
              "      \n",
              "  <style>\n",
              "    .colab-df-container {\n",
              "      display:flex;\n",
              "      flex-wrap:wrap;\n",
              "      gap: 12px;\n",
              "    }\n",
              "\n",
              "    .colab-df-convert {\n",
              "      background-color: #E8F0FE;\n",
              "      border: none;\n",
              "      border-radius: 50%;\n",
              "      cursor: pointer;\n",
              "      display: none;\n",
              "      fill: #1967D2;\n",
              "      height: 32px;\n",
              "      padding: 0 0 0 0;\n",
              "      width: 32px;\n",
              "    }\n",
              "\n",
              "    .colab-df-convert:hover {\n",
              "      background-color: #E2EBFA;\n",
              "      box-shadow: 0px 1px 2px rgba(60, 64, 67, 0.3), 0px 1px 3px 1px rgba(60, 64, 67, 0.15);\n",
              "      fill: #174EA6;\n",
              "    }\n",
              "\n",
              "    [theme=dark] .colab-df-convert {\n",
              "      background-color: #3B4455;\n",
              "      fill: #D2E3FC;\n",
              "    }\n",
              "\n",
              "    [theme=dark] .colab-df-convert:hover {\n",
              "      background-color: #434B5C;\n",
              "      box-shadow: 0px 1px 3px 1px rgba(0, 0, 0, 0.15);\n",
              "      filter: drop-shadow(0px 1px 2px rgba(0, 0, 0, 0.3));\n",
              "      fill: #FFFFFF;\n",
              "    }\n",
              "  </style>\n",
              "\n",
              "      <script>\n",
              "        const buttonEl =\n",
              "          document.querySelector('#df-7cb17486-088a-47e5-8ae9-fc5e8a3ad2c6 button.colab-df-convert');\n",
              "        buttonEl.style.display =\n",
              "          google.colab.kernel.accessAllowed ? 'block' : 'none';\n",
              "\n",
              "        async function convertToInteractive(key) {\n",
              "          const element = document.querySelector('#df-7cb17486-088a-47e5-8ae9-fc5e8a3ad2c6');\n",
              "          const dataTable =\n",
              "            await google.colab.kernel.invokeFunction('convertToInteractive',\n",
              "                                                     [key], {});\n",
              "          if (!dataTable) return;\n",
              "\n",
              "          const docLinkHtml = 'Like what you see? Visit the ' +\n",
              "            '<a target=\"_blank\" href=https://colab.research.google.com/notebooks/data_table.ipynb>data table notebook</a>'\n",
              "            + ' to learn more about interactive tables.';\n",
              "          element.innerHTML = '';\n",
              "          dataTable['output_type'] = 'display_data';\n",
              "          await google.colab.output.renderOutput(dataTable, element);\n",
              "          const docLink = document.createElement('div');\n",
              "          docLink.innerHTML = docLinkHtml;\n",
              "          element.appendChild(docLink);\n",
              "        }\n",
              "      </script>\n",
              "    </div>\n",
              "  </div>\n",
              "  "
            ]
          },
          "metadata": {},
          "execution_count": 71
        }
      ]
    },
    {
      "cell_type": "code",
      "source": [
        "df.shape"
      ],
      "metadata": {
        "colab": {
          "base_uri": "https://localhost:8080/"
        },
        "id": "nU4vlGIPWScV",
        "outputId": "2b2cbbfe-e947-47aa-93d0-5358b7379a4a"
      },
      "execution_count": null,
      "outputs": [
        {
          "output_type": "execute_result",
          "data": {
            "text/plain": [
              "(8086, 5)"
            ]
          },
          "metadata": {},
          "execution_count": 72
        }
      ]
    },
    {
      "cell_type": "code",
      "source": [
        "df.head()"
      ],
      "metadata": {
        "colab": {
          "base_uri": "https://localhost:8080/",
          "height": 206
        },
        "id": "o_4niKAVWUWu",
        "outputId": "4681f7c0-9528-471f-afac-00a41c6eebb6"
      },
      "execution_count": null,
      "outputs": [
        {
          "output_type": "execute_result",
          "data": {
            "text/plain": [
              "                      Time  Latitude  Longitude  Depth/Km  Magnitude\n",
              "0  2016-08-24 03:36:32.000   42.6983    13.2335       8.1        6.0\n",
              "1  2016-08-24 03:37:26.580   42.7123    13.2533       9.0        4.5\n",
              "2  2016-08-24 03:40:46.590   42.7647    13.1723       9.7        3.8\n",
              "3  2016-08-24 03:41:38.900   42.7803    13.1683       9.7        3.9\n",
              "4  2016-08-24 03:42:07.170   42.7798    13.1575       9.7        3.6"
            ],
            "text/html": [
              "\n",
              "  <div id=\"df-17c23829-71b0-4208-9185-d2a9ad7330ee\">\n",
              "    <div class=\"colab-df-container\">\n",
              "      <div>\n",
              "<style scoped>\n",
              "    .dataframe tbody tr th:only-of-type {\n",
              "        vertical-align: middle;\n",
              "    }\n",
              "\n",
              "    .dataframe tbody tr th {\n",
              "        vertical-align: top;\n",
              "    }\n",
              "\n",
              "    .dataframe thead th {\n",
              "        text-align: right;\n",
              "    }\n",
              "</style>\n",
              "<table border=\"1\" class=\"dataframe\">\n",
              "  <thead>\n",
              "    <tr style=\"text-align: right;\">\n",
              "      <th></th>\n",
              "      <th>Time</th>\n",
              "      <th>Latitude</th>\n",
              "      <th>Longitude</th>\n",
              "      <th>Depth/Km</th>\n",
              "      <th>Magnitude</th>\n",
              "    </tr>\n",
              "  </thead>\n",
              "  <tbody>\n",
              "    <tr>\n",
              "      <th>0</th>\n",
              "      <td>2016-08-24 03:36:32.000</td>\n",
              "      <td>42.6983</td>\n",
              "      <td>13.2335</td>\n",
              "      <td>8.1</td>\n",
              "      <td>6.0</td>\n",
              "    </tr>\n",
              "    <tr>\n",
              "      <th>1</th>\n",
              "      <td>2016-08-24 03:37:26.580</td>\n",
              "      <td>42.7123</td>\n",
              "      <td>13.2533</td>\n",
              "      <td>9.0</td>\n",
              "      <td>4.5</td>\n",
              "    </tr>\n",
              "    <tr>\n",
              "      <th>2</th>\n",
              "      <td>2016-08-24 03:40:46.590</td>\n",
              "      <td>42.7647</td>\n",
              "      <td>13.1723</td>\n",
              "      <td>9.7</td>\n",
              "      <td>3.8</td>\n",
              "    </tr>\n",
              "    <tr>\n",
              "      <th>3</th>\n",
              "      <td>2016-08-24 03:41:38.900</td>\n",
              "      <td>42.7803</td>\n",
              "      <td>13.1683</td>\n",
              "      <td>9.7</td>\n",
              "      <td>3.9</td>\n",
              "    </tr>\n",
              "    <tr>\n",
              "      <th>4</th>\n",
              "      <td>2016-08-24 03:42:07.170</td>\n",
              "      <td>42.7798</td>\n",
              "      <td>13.1575</td>\n",
              "      <td>9.7</td>\n",
              "      <td>3.6</td>\n",
              "    </tr>\n",
              "  </tbody>\n",
              "</table>\n",
              "</div>\n",
              "      <button class=\"colab-df-convert\" onclick=\"convertToInteractive('df-17c23829-71b0-4208-9185-d2a9ad7330ee')\"\n",
              "              title=\"Convert this dataframe to an interactive table.\"\n",
              "              style=\"display:none;\">\n",
              "        \n",
              "  <svg xmlns=\"http://www.w3.org/2000/svg\" height=\"24px\"viewBox=\"0 0 24 24\"\n",
              "       width=\"24px\">\n",
              "    <path d=\"M0 0h24v24H0V0z\" fill=\"none\"/>\n",
              "    <path d=\"M18.56 5.44l.94 2.06.94-2.06 2.06-.94-2.06-.94-.94-2.06-.94 2.06-2.06.94zm-11 1L8.5 8.5l.94-2.06 2.06-.94-2.06-.94L8.5 2.5l-.94 2.06-2.06.94zm10 10l.94 2.06.94-2.06 2.06-.94-2.06-.94-.94-2.06-.94 2.06-2.06.94z\"/><path d=\"M17.41 7.96l-1.37-1.37c-.4-.4-.92-.59-1.43-.59-.52 0-1.04.2-1.43.59L10.3 9.45l-7.72 7.72c-.78.78-.78 2.05 0 2.83L4 21.41c.39.39.9.59 1.41.59.51 0 1.02-.2 1.41-.59l7.78-7.78 2.81-2.81c.8-.78.8-2.07 0-2.86zM5.41 20L4 18.59l7.72-7.72 1.47 1.35L5.41 20z\"/>\n",
              "  </svg>\n",
              "      </button>\n",
              "      \n",
              "  <style>\n",
              "    .colab-df-container {\n",
              "      display:flex;\n",
              "      flex-wrap:wrap;\n",
              "      gap: 12px;\n",
              "    }\n",
              "\n",
              "    .colab-df-convert {\n",
              "      background-color: #E8F0FE;\n",
              "      border: none;\n",
              "      border-radius: 50%;\n",
              "      cursor: pointer;\n",
              "      display: none;\n",
              "      fill: #1967D2;\n",
              "      height: 32px;\n",
              "      padding: 0 0 0 0;\n",
              "      width: 32px;\n",
              "    }\n",
              "\n",
              "    .colab-df-convert:hover {\n",
              "      background-color: #E2EBFA;\n",
              "      box-shadow: 0px 1px 2px rgba(60, 64, 67, 0.3), 0px 1px 3px 1px rgba(60, 64, 67, 0.15);\n",
              "      fill: #174EA6;\n",
              "    }\n",
              "\n",
              "    [theme=dark] .colab-df-convert {\n",
              "      background-color: #3B4455;\n",
              "      fill: #D2E3FC;\n",
              "    }\n",
              "\n",
              "    [theme=dark] .colab-df-convert:hover {\n",
              "      background-color: #434B5C;\n",
              "      box-shadow: 0px 1px 3px 1px rgba(0, 0, 0, 0.15);\n",
              "      filter: drop-shadow(0px 1px 2px rgba(0, 0, 0, 0.3));\n",
              "      fill: #FFFFFF;\n",
              "    }\n",
              "  </style>\n",
              "\n",
              "      <script>\n",
              "        const buttonEl =\n",
              "          document.querySelector('#df-17c23829-71b0-4208-9185-d2a9ad7330ee button.colab-df-convert');\n",
              "        buttonEl.style.display =\n",
              "          google.colab.kernel.accessAllowed ? 'block' : 'none';\n",
              "\n",
              "        async function convertToInteractive(key) {\n",
              "          const element = document.querySelector('#df-17c23829-71b0-4208-9185-d2a9ad7330ee');\n",
              "          const dataTable =\n",
              "            await google.colab.kernel.invokeFunction('convertToInteractive',\n",
              "                                                     [key], {});\n",
              "          if (!dataTable) return;\n",
              "\n",
              "          const docLinkHtml = 'Like what you see? Visit the ' +\n",
              "            '<a target=\"_blank\" href=https://colab.research.google.com/notebooks/data_table.ipynb>data table notebook</a>'\n",
              "            + ' to learn more about interactive tables.';\n",
              "          element.innerHTML = '';\n",
              "          dataTable['output_type'] = 'display_data';\n",
              "          await google.colab.output.renderOutput(dataTable, element);\n",
              "          const docLink = document.createElement('div');\n",
              "          docLink.innerHTML = docLinkHtml;\n",
              "          element.appendChild(docLink);\n",
              "        }\n",
              "      </script>\n",
              "    </div>\n",
              "  </div>\n",
              "  "
            ]
          },
          "metadata": {},
          "execution_count": 73
        }
      ]
    },
    {
      "cell_type": "code",
      "source": [
        "df.info()"
      ],
      "metadata": {
        "colab": {
          "base_uri": "https://localhost:8080/"
        },
        "id": "sdJX3NANWWAY",
        "outputId": "28295b76-0b00-4d20-8132-291e58f049bc"
      },
      "execution_count": null,
      "outputs": [
        {
          "output_type": "stream",
          "name": "stdout",
          "text": [
            "<class 'pandas.core.frame.DataFrame'>\n",
            "RangeIndex: 8086 entries, 0 to 8085\n",
            "Data columns (total 5 columns):\n",
            " #   Column     Non-Null Count  Dtype  \n",
            "---  ------     --------------  -----  \n",
            " 0   Time       8086 non-null   object \n",
            " 1   Latitude   8086 non-null   float64\n",
            " 2   Longitude  8086 non-null   float64\n",
            " 3   Depth/Km   8086 non-null   float64\n",
            " 4   Magnitude  8086 non-null   float64\n",
            "dtypes: float64(4), object(1)\n",
            "memory usage: 316.0+ KB\n"
          ]
        }
      ]
    },
    {
      "cell_type": "code",
      "source": [
        "print(df.columns)"
      ],
      "metadata": {
        "colab": {
          "base_uri": "https://localhost:8080/"
        },
        "id": "9F1LcpYPWXsH",
        "outputId": "860b7df4-36ab-4f8a-9886-6baeacb83961"
      },
      "execution_count": null,
      "outputs": [
        {
          "output_type": "stream",
          "name": "stdout",
          "text": [
            "Index(['Time', 'Latitude', 'Longitude', 'Depth/Km', 'Magnitude'], dtype='object')\n"
          ]
        }
      ]
    },
    {
      "cell_type": "code",
      "source": [
        "df.notnull()"
      ],
      "metadata": {
        "colab": {
          "base_uri": "https://localhost:8080/",
          "height": 424
        },
        "id": "7-a4yEqKWZJU",
        "outputId": "49428f20-24ce-4fa4-cec2-05ae98790aff"
      },
      "execution_count": null,
      "outputs": [
        {
          "output_type": "execute_result",
          "data": {
            "text/plain": [
              "      Time  Latitude  Longitude  Depth/Km  Magnitude\n",
              "0     True      True       True      True       True\n",
              "1     True      True       True      True       True\n",
              "2     True      True       True      True       True\n",
              "3     True      True       True      True       True\n",
              "4     True      True       True      True       True\n",
              "...    ...       ...        ...       ...        ...\n",
              "8081  True      True       True      True       True\n",
              "8082  True      True       True      True       True\n",
              "8083  True      True       True      True       True\n",
              "8084  True      True       True      True       True\n",
              "8085  True      True       True      True       True\n",
              "\n",
              "[8086 rows x 5 columns]"
            ],
            "text/html": [
              "\n",
              "  <div id=\"df-8760a2a1-ec9e-4d52-97c5-c233ae31382c\">\n",
              "    <div class=\"colab-df-container\">\n",
              "      <div>\n",
              "<style scoped>\n",
              "    .dataframe tbody tr th:only-of-type {\n",
              "        vertical-align: middle;\n",
              "    }\n",
              "\n",
              "    .dataframe tbody tr th {\n",
              "        vertical-align: top;\n",
              "    }\n",
              "\n",
              "    .dataframe thead th {\n",
              "        text-align: right;\n",
              "    }\n",
              "</style>\n",
              "<table border=\"1\" class=\"dataframe\">\n",
              "  <thead>\n",
              "    <tr style=\"text-align: right;\">\n",
              "      <th></th>\n",
              "      <th>Time</th>\n",
              "      <th>Latitude</th>\n",
              "      <th>Longitude</th>\n",
              "      <th>Depth/Km</th>\n",
              "      <th>Magnitude</th>\n",
              "    </tr>\n",
              "  </thead>\n",
              "  <tbody>\n",
              "    <tr>\n",
              "      <th>0</th>\n",
              "      <td>True</td>\n",
              "      <td>True</td>\n",
              "      <td>True</td>\n",
              "      <td>True</td>\n",
              "      <td>True</td>\n",
              "    </tr>\n",
              "    <tr>\n",
              "      <th>1</th>\n",
              "      <td>True</td>\n",
              "      <td>True</td>\n",
              "      <td>True</td>\n",
              "      <td>True</td>\n",
              "      <td>True</td>\n",
              "    </tr>\n",
              "    <tr>\n",
              "      <th>2</th>\n",
              "      <td>True</td>\n",
              "      <td>True</td>\n",
              "      <td>True</td>\n",
              "      <td>True</td>\n",
              "      <td>True</td>\n",
              "    </tr>\n",
              "    <tr>\n",
              "      <th>3</th>\n",
              "      <td>True</td>\n",
              "      <td>True</td>\n",
              "      <td>True</td>\n",
              "      <td>True</td>\n",
              "      <td>True</td>\n",
              "    </tr>\n",
              "    <tr>\n",
              "      <th>4</th>\n",
              "      <td>True</td>\n",
              "      <td>True</td>\n",
              "      <td>True</td>\n",
              "      <td>True</td>\n",
              "      <td>True</td>\n",
              "    </tr>\n",
              "    <tr>\n",
              "      <th>...</th>\n",
              "      <td>...</td>\n",
              "      <td>...</td>\n",
              "      <td>...</td>\n",
              "      <td>...</td>\n",
              "      <td>...</td>\n",
              "    </tr>\n",
              "    <tr>\n",
              "      <th>8081</th>\n",
              "      <td>True</td>\n",
              "      <td>True</td>\n",
              "      <td>True</td>\n",
              "      <td>True</td>\n",
              "      <td>True</td>\n",
              "    </tr>\n",
              "    <tr>\n",
              "      <th>8082</th>\n",
              "      <td>True</td>\n",
              "      <td>True</td>\n",
              "      <td>True</td>\n",
              "      <td>True</td>\n",
              "      <td>True</td>\n",
              "    </tr>\n",
              "    <tr>\n",
              "      <th>8083</th>\n",
              "      <td>True</td>\n",
              "      <td>True</td>\n",
              "      <td>True</td>\n",
              "      <td>True</td>\n",
              "      <td>True</td>\n",
              "    </tr>\n",
              "    <tr>\n",
              "      <th>8084</th>\n",
              "      <td>True</td>\n",
              "      <td>True</td>\n",
              "      <td>True</td>\n",
              "      <td>True</td>\n",
              "      <td>True</td>\n",
              "    </tr>\n",
              "    <tr>\n",
              "      <th>8085</th>\n",
              "      <td>True</td>\n",
              "      <td>True</td>\n",
              "      <td>True</td>\n",
              "      <td>True</td>\n",
              "      <td>True</td>\n",
              "    </tr>\n",
              "  </tbody>\n",
              "</table>\n",
              "<p>8086 rows × 5 columns</p>\n",
              "</div>\n",
              "      <button class=\"colab-df-convert\" onclick=\"convertToInteractive('df-8760a2a1-ec9e-4d52-97c5-c233ae31382c')\"\n",
              "              title=\"Convert this dataframe to an interactive table.\"\n",
              "              style=\"display:none;\">\n",
              "        \n",
              "  <svg xmlns=\"http://www.w3.org/2000/svg\" height=\"24px\"viewBox=\"0 0 24 24\"\n",
              "       width=\"24px\">\n",
              "    <path d=\"M0 0h24v24H0V0z\" fill=\"none\"/>\n",
              "    <path d=\"M18.56 5.44l.94 2.06.94-2.06 2.06-.94-2.06-.94-.94-2.06-.94 2.06-2.06.94zm-11 1L8.5 8.5l.94-2.06 2.06-.94-2.06-.94L8.5 2.5l-.94 2.06-2.06.94zm10 10l.94 2.06.94-2.06 2.06-.94-2.06-.94-.94-2.06-.94 2.06-2.06.94z\"/><path d=\"M17.41 7.96l-1.37-1.37c-.4-.4-.92-.59-1.43-.59-.52 0-1.04.2-1.43.59L10.3 9.45l-7.72 7.72c-.78.78-.78 2.05 0 2.83L4 21.41c.39.39.9.59 1.41.59.51 0 1.02-.2 1.41-.59l7.78-7.78 2.81-2.81c.8-.78.8-2.07 0-2.86zM5.41 20L4 18.59l7.72-7.72 1.47 1.35L5.41 20z\"/>\n",
              "  </svg>\n",
              "      </button>\n",
              "      \n",
              "  <style>\n",
              "    .colab-df-container {\n",
              "      display:flex;\n",
              "      flex-wrap:wrap;\n",
              "      gap: 12px;\n",
              "    }\n",
              "\n",
              "    .colab-df-convert {\n",
              "      background-color: #E8F0FE;\n",
              "      border: none;\n",
              "      border-radius: 50%;\n",
              "      cursor: pointer;\n",
              "      display: none;\n",
              "      fill: #1967D2;\n",
              "      height: 32px;\n",
              "      padding: 0 0 0 0;\n",
              "      width: 32px;\n",
              "    }\n",
              "\n",
              "    .colab-df-convert:hover {\n",
              "      background-color: #E2EBFA;\n",
              "      box-shadow: 0px 1px 2px rgba(60, 64, 67, 0.3), 0px 1px 3px 1px rgba(60, 64, 67, 0.15);\n",
              "      fill: #174EA6;\n",
              "    }\n",
              "\n",
              "    [theme=dark] .colab-df-convert {\n",
              "      background-color: #3B4455;\n",
              "      fill: #D2E3FC;\n",
              "    }\n",
              "\n",
              "    [theme=dark] .colab-df-convert:hover {\n",
              "      background-color: #434B5C;\n",
              "      box-shadow: 0px 1px 3px 1px rgba(0, 0, 0, 0.15);\n",
              "      filter: drop-shadow(0px 1px 2px rgba(0, 0, 0, 0.3));\n",
              "      fill: #FFFFFF;\n",
              "    }\n",
              "  </style>\n",
              "\n",
              "      <script>\n",
              "        const buttonEl =\n",
              "          document.querySelector('#df-8760a2a1-ec9e-4d52-97c5-c233ae31382c button.colab-df-convert');\n",
              "        buttonEl.style.display =\n",
              "          google.colab.kernel.accessAllowed ? 'block' : 'none';\n",
              "\n",
              "        async function convertToInteractive(key) {\n",
              "          const element = document.querySelector('#df-8760a2a1-ec9e-4d52-97c5-c233ae31382c');\n",
              "          const dataTable =\n",
              "            await google.colab.kernel.invokeFunction('convertToInteractive',\n",
              "                                                     [key], {});\n",
              "          if (!dataTable) return;\n",
              "\n",
              "          const docLinkHtml = 'Like what you see? Visit the ' +\n",
              "            '<a target=\"_blank\" href=https://colab.research.google.com/notebooks/data_table.ipynb>data table notebook</a>'\n",
              "            + ' to learn more about interactive tables.';\n",
              "          element.innerHTML = '';\n",
              "          dataTable['output_type'] = 'display_data';\n",
              "          await google.colab.output.renderOutput(dataTable, element);\n",
              "          const docLink = document.createElement('div');\n",
              "          docLink.innerHTML = docLinkHtml;\n",
              "          element.appendChild(docLink);\n",
              "        }\n",
              "      </script>\n",
              "    </div>\n",
              "  </div>\n",
              "  "
            ]
          },
          "metadata": {},
          "execution_count": 76
        }
      ]
    },
    {
      "cell_type": "code",
      "source": [
        "df.isnull().sum()"
      ],
      "metadata": {
        "colab": {
          "base_uri": "https://localhost:8080/"
        },
        "id": "Ku8lWihnWauA",
        "outputId": "13b7e7b9-11bd-4aa8-8dca-b1f9ba5ed74a"
      },
      "execution_count": null,
      "outputs": [
        {
          "output_type": "execute_result",
          "data": {
            "text/plain": [
              "Time         0\n",
              "Latitude     0\n",
              "Longitude    0\n",
              "Depth/Km     0\n",
              "Magnitude    0\n",
              "dtype: int64"
            ]
          },
          "metadata": {},
          "execution_count": 77
        }
      ]
    },
    {
      "cell_type": "code",
      "source": [
        "X_DT = df.iloc[:, [1,2,3]].values\n",
        "X_DT"
      ],
      "metadata": {
        "colab": {
          "base_uri": "https://localhost:8080/"
        },
        "id": "W_ozoaYrWleo",
        "outputId": "e59860be-92c6-44fe-aaba-3fd7da3b20a9"
      },
      "execution_count": null,
      "outputs": [
        {
          "output_type": "execute_result",
          "data": {
            "text/plain": [
              "array([[42.6983, 13.2335,  8.1   ],\n",
              "       [42.7123, 13.2533,  9.    ],\n",
              "       [42.7647, 13.1723,  9.7   ],\n",
              "       ...,\n",
              "       [43.0092, 13.1288,  8.    ],\n",
              "       [43.0197, 13.1017,  9.3   ],\n",
              "       [42.9935, 13.0753,  9.5   ]])"
            ]
          },
          "metadata": {},
          "execution_count": 78
        }
      ]
    },
    {
      "cell_type": "code",
      "source": [
        "y_dt = df.iloc[:,-1].values\n",
        "y_dt"
      ],
      "metadata": {
        "colab": {
          "base_uri": "https://localhost:8080/"
        },
        "id": "Wgd545p5Wp1S",
        "outputId": "801e00df-6fba-4b5f-851c-1169d47aa779"
      },
      "execution_count": null,
      "outputs": [
        {
          "output_type": "execute_result",
          "data": {
            "text/plain": [
              "array([6. , 4.5, 3.8, ..., 2.2, 2.7, 2.3])"
            ]
          },
          "metadata": {},
          "execution_count": 79
        }
      ]
    },
    {
      "cell_type": "code",
      "source": [
        "X_train_dt, X_test_dt, y_train_dt, y_test_dt = train_test_split(X_DT,y_dt,train_size=0.75, random_state=0)"
      ],
      "metadata": {
        "id": "Wp8Q2vHNWqOF"
      },
      "execution_count": null,
      "outputs": []
    },
    {
      "cell_type": "code",
      "source": [
        "regressor = DecisionTreeRegressor(max_depth=3,random_state=0,min_samples_leaf=3)\n",
        "regressor_ft=regressor.fit(X_train_dt, y_train_dt)"
      ],
      "metadata": {
        "id": "I_zILPXJWtrx"
      },
      "execution_count": null,
      "outputs": []
    },
    {
      "cell_type": "code",
      "source": [
        "y_pred_dt = regressor_ft.predict(X_test_dt)\n",
        "y_pred_dt"
      ],
      "metadata": {
        "colab": {
          "base_uri": "https://localhost:8080/"
        },
        "id": "KKvVpcOYWuQW",
        "outputId": "41dc895c-049c-495d-cbc2-24cd58778a97"
      },
      "execution_count": null,
      "outputs": [
        {
          "output_type": "execute_result",
          "data": {
            "text/plain": [
              "array([2.31023392, 2.45965885, 2.2986791 , ..., 2.2986791 , 2.2986791 ,\n",
              "       2.41612571])"
            ]
          },
          "metadata": {},
          "execution_count": 82
        }
      ]
    },
    {
      "cell_type": "code",
      "source": [
        "tree.plot_tree(regressor_ft)"
      ],
      "metadata": {
        "colab": {
          "base_uri": "https://localhost:8080/",
          "height": 508
        },
        "id": "PC7RZ2KwWxvf",
        "outputId": "f6c60266-9616-4d67-a63d-712f31766dd0"
      },
      "execution_count": null,
      "outputs": [
        {
          "output_type": "execute_result",
          "data": {
            "text/plain": [
              "[Text(0.5, 0.875, 'X[2] <= 10.85\\nsquared_error = 0.183\\nsamples = 6064\\nvalue = 2.398'),\n",
              " Text(0.25, 0.625, 'X[0] <= 42.853\\nsquared_error = 0.202\\nsamples = 4685\\nvalue = 2.428'),\n",
              " Text(0.125, 0.375, 'X[0] <= 42.588\\nsquared_error = 0.231\\nsamples = 2402\\nvalue = 2.455'),\n",
              " Text(0.0625, 0.125, 'squared_error = 0.111\\nsamples = 57\\nvalue = 2.27'),\n",
              " Text(0.1875, 0.125, 'squared_error = 0.234\\nsamples = 2345\\nvalue = 2.46'),\n",
              " Text(0.375, 0.375, 'X[2] <= 10.15\\nsquared_error = 0.17\\nsamples = 2283\\nvalue = 2.4'),\n",
              " Text(0.3125, 0.125, 'squared_error = 0.18\\nsamples = 1941\\nvalue = 2.416'),\n",
              " Text(0.4375, 0.125, 'squared_error = 0.103\\nsamples = 342\\nvalue = 2.31'),\n",
              " Text(0.75, 0.625, 'X[1] <= 13.055\\nsquared_error = 0.106\\nsamples = 1379\\nvalue = 2.294'),\n",
              " Text(0.625, 0.375, 'X[1] <= 13.05\\nsquared_error = 0.044\\nsamples = 88\\nvalue = 2.211'),\n",
              " Text(0.5625, 0.125, 'squared_error = 0.046\\nsamples = 73\\nvalue = 2.234'),\n",
              " Text(0.6875, 0.125, 'squared_error = 0.016\\nsamples = 15\\nvalue = 2.1'),\n",
              " Text(0.875, 0.375, 'X[1] <= 13.056\\nsquared_error = 0.11\\nsamples = 1291\\nvalue = 2.3'),\n",
              " Text(0.8125, 0.125, 'squared_error = 0.047\\nsamples = 4\\nvalue = 2.675'),\n",
              " Text(0.9375, 0.125, 'squared_error = 0.11\\nsamples = 1287\\nvalue = 2.299')]"
            ]
          },
          "metadata": {},
          "execution_count": 83
        },
        {
          "output_type": "display_data",
          "data": {
            "text/plain": [
              "<Figure size 432x288 with 1 Axes>"
            ],
            "image/png": "[encoded data removed]"
          },
          "metadata": {
            "needs_background": "light"
          }
        }
      ]
    },
    {
      "cell_type": "code",
      "source": [
        "print(\"Mean Absolute Error : \", metrics.mean_absolute_error(y_test_dt, y_pred_dt))\n",
        "print('Mean Squared Error:', metrics.mean_squared_error(y_test_dt, y_pred_dt))\n",
        "print('Root Mean Squared Error:', np.sqrt(metrics.mean_squared_error(y_test_dt, y_pred_dt)))\n",
        "print(\"R Squared(R2) Error = \",metrics.r2_score(y_test_dt,y_pred_dt))"
      ],
      "metadata": {
        "colab": {
          "base_uri": "https://localhost:8080/"
        },
        "id": "4-K0gY9IXc-M",
        "outputId": "2a67648c-d9ba-455b-c9bb-8ec24826686a"
      },
      "execution_count": null,
      "outputs": [
        {
          "output_type": "stream",
          "name": "stdout",
          "text": [
            "Mean Absolute Error :  0.3100852620549575\n",
            "Mean Squared Error: 0.17271085149309678\n",
            "Root Mean Squared Error: 0.415584950994495\n",
            "R Squared(R2) Error =  0.02266478491223123\n"
          ]
        }
      ]
    },
    {
      "cell_type": "markdown",
      "source": [
        "# **LINEAR REGRESSION** **ON ITALY EARTHQUAKE DATASET**"
      ],
      "metadata": {
        "id": "StGVf_yfYWP4"
      }
    },
    {
      "cell_type": "code",
      "source": [
        "from sklearn.linear_model import LinearRegression"
      ],
      "metadata": {
        "id": "zejSkuvQYbVK"
      },
      "execution_count": null,
      "outputs": []
    },
    {
      "cell_type": "code",
      "source": [
        "plt.figure(figsize=(10,10))\n",
        "sns.scatterplot(df['Depth/Km'], df['Magnitude'], hue=df['Depth/Km'])\n",
        "plt.xlabel('Depth/Km')\n",
        "plt.ylabel('Magnitude')\n",
        "plt.title('Depth/Km vs Magnitude')\n",
        "plt.show()"
      ],
      "metadata": {
        "colab": {
          "base_uri": "https://localhost:8080/",
          "height": 676
        },
        "id": "O8s5h_vkYszi",
        "outputId": "b83282ee-e68c-461b-8007-79d2ad4e4fdc"
      },
      "execution_count": null,
      "outputs": [
        {
          "output_type": "stream",
          "name": "stderr",
          "text": [
            "/usr/local/lib/python3.7/dist-packages/seaborn/_decorators.py:43: FutureWarning: Pass the following variables as keyword args: x, y. From version 0.12, the only valid positional argument will be `data`, and passing other arguments without an explicit keyword will result in an error or misinterpretation.\n",
            "  FutureWarning\n"
          ]
        },
        {
          "output_type": "display_data",
          "data": {
            "text/plain": [
              "<Figure size 720x720 with 1 Axes>"
            ],
            "image/png": "[encoded data removed]"
          },
          "metadata": {
            "needs_background": "light"
          }
        }
      ]
    },
    {
      "cell_type": "code",
      "source": [
        "X_LR = df.iloc[:, [3]].values\n",
        "X_LR"
      ],
      "metadata": {
        "colab": {
          "base_uri": "https://localhost:8080/"
        },
        "id": "LA1C5OBoZEJZ",
        "outputId": "8a42fba9-9c0a-4e8b-e2f2-1b5167aee1ee"
      },
      "execution_count": null,
      "outputs": [
        {
          "output_type": "execute_result",
          "data": {
            "text/plain": [
              "array([[8.1],\n",
              "       [9. ],\n",
              "       [9.7],\n",
              "       ...,\n",
              "       [8. ],\n",
              "       [9.3],\n",
              "       [9.5]])"
            ]
          },
          "metadata": {},
          "execution_count": 87
        }
      ]
    },
    {
      "cell_type": "code",
      "source": [
        "y_lr = df.iloc[:,-1].values\n",
        "y_lr"
      ],
      "metadata": {
        "colab": {
          "base_uri": "https://localhost:8080/"
        },
        "id": "1siJQiNEZPlj",
        "outputId": "3e233bf7-c603-4965-f372-55645f2d2d25"
      },
      "execution_count": null,
      "outputs": [
        {
          "output_type": "execute_result",
          "data": {
            "text/plain": [
              "array([6. , 4.5, 3.8, ..., 2.2, 2.7, 2.3])"
            ]
          },
          "metadata": {},
          "execution_count": 88
        }
      ]
    },
    {
      "cell_type": "code",
      "source": [
        "X_train_lr, X_test_lr, y_train_lr, y_test_lr = train_test_split(X_LR, y_lr, train_size = 0.7,random_state=100)"
      ],
      "metadata": {
        "id": "1cR687UlZU8P"
      },
      "execution_count": null,
      "outputs": []
    },
    {
      "cell_type": "code",
      "source": [
        "lm = LinearRegression()\n",
        "lm.fit(X_train_lr,y_train_lr)"
      ],
      "metadata": {
        "colab": {
          "base_uri": "https://localhost:8080/"
        },
        "id": "Ntu7zlZCZZLa",
        "outputId": "cb6df2e9-2a34-463c-a63c-812291844428"
      },
      "execution_count": null,
      "outputs": [
        {
          "output_type": "execute_result",
          "data": {
            "text/plain": [
              "LinearRegression()"
            ]
          },
          "metadata": {},
          "execution_count": 90
        }
      ]
    },
    {
      "cell_type": "code",
      "source": [
        "print('Intercept of the Model:',lm.intercept_)\n",
        "print('Co-efficient of the line:',lm.coef_)"
      ],
      "metadata": {
        "colab": {
          "base_uri": "https://localhost:8080/"
        },
        "id": "70JgWp__ZbI9",
        "outputId": "9c06ee67-6c53-436f-ba82-13a8418be2b8"
      },
      "execution_count": null,
      "outputs": [
        {
          "output_type": "stream",
          "name": "stdout",
          "text": [
            "Intercept of the Model: 2.5705431696113346\n",
            "Co-efficient of the line: [-0.01739635]\n"
          ]
        }
      ]
    },
    {
      "cell_type": "code",
      "source": [
        "y_predict_lr=lm.predict(X_test_lr)\n",
        "y_predict_lr"
      ],
      "metadata": {
        "colab": {
          "base_uri": "https://localhost:8080/"
        },
        "id": "7L2bRGldZcjR",
        "outputId": "e3146aba-c4de-4f76-b1e5-f6fe288c7049"
      },
      "execution_count": null,
      "outputs": [
        {
          "output_type": "execute_result",
          "data": {
            "text/plain": [
              "array([2.38614184, 2.38266257, 2.3791833 , ..., 2.40527783, 2.38092293,\n",
              "       2.4087571 ])"
            ]
          },
          "metadata": {},
          "execution_count": 92
        }
      ]
    },
    {
      "cell_type": "code",
      "source": [
        "plt.scatter (X_test_lr, y_test_lr, color = 'black')\n",
        "plt.plot (X_test_lr, lm.predict (X_test_lr), color = 'blue')\n",
        "plt.title('Depth/Km vs Magnitude')\n",
        "plt.xlabel('Depth/Km')\n",
        "plt.ylabel('Magnitude')\n",
        "plt.show()"
      ],
      "metadata": {
        "colab": {
          "base_uri": "https://localhost:8080/",
          "height": 295
        },
        "id": "ErSY1tmFZ1uz",
        "outputId": "6fbd84b3-9779-4f51-a97b-801b552f3da3"
      },
      "execution_count": null,
      "outputs": [
        {
          "output_type": "display_data",
          "data": {
            "text/plain": [
              "<Figure size 432x288 with 1 Axes>"
            ],
            "image/png": "[encoded data removed]"
          },
          "metadata": {
            "needs_background": "light"
          }
        }
      ]
    },
    {
      "cell_type": "code",
      "source": [
        "from sklearn import metrics\n",
        "print(\"Mean Absolute Error : \", metrics.mean_absolute_error(y_test_lr, y_predict_lr))\n",
        "print('Mean Squared Error:', metrics.mean_squared_error(y_test_lr, y_predict_lr))\n",
        "print('Root Mean Squared Error:', np.sqrt(metrics.mean_squared_error(y_test_lr, y_predict_lr)))\n",
        "print(\"R Squared(R2) Error = \",metrics.r2_score(y_test_lr,y_predict_lr))"
      ],
      "metadata": {
        "colab": {
          "base_uri": "https://localhost:8080/"
        },
        "id": "YFQYd4WtZc7x",
        "outputId": "1a523d1c-69ac-4f5a-9e07-c9b7827c3223"
      },
      "execution_count": null,
      "outputs": [
        {
          "output_type": "stream",
          "name": "stdout",
          "text": [
            "Mean Absolute Error :  0.3240961306421551\n",
            "Mean Squared Error: 0.18849845297222845\n",
            "Root Mean Squared Error: 0.43416408530903206\n",
            "R Squared(R2) Error =  0.012266380372654706\n"
          ]
        }
      ]
    },
    {
      "cell_type": "markdown",
      "source": [
        "# **ADABOOST - REGRESSOR ON ITALY EARTHQUAKE DATASET**"
      ],
      "metadata": {
        "id": "bdjqe2VHaHHl"
      }
    },
    {
      "cell_type": "code",
      "source": [
        "from sklearn.ensemble import AdaBoostRegressor"
      ],
      "metadata": {
        "id": "KOMKxfpQZzw3"
      },
      "execution_count": null,
      "outputs": []
    },
    {
      "cell_type": "code",
      "source": [
        "X_ada = df.iloc[:, [1,2,3]].values\n",
        "X_ada"
      ],
      "metadata": {
        "colab": {
          "base_uri": "https://localhost:8080/"
        },
        "id": "ACIgMmfAcNkA",
        "outputId": "d5d86704-935f-4c00-c2d7-2e4f63a564d7"
      },
      "execution_count": null,
      "outputs": [
        {
          "output_type": "execute_result",
          "data": {
            "text/plain": [
              "array([[42.6983, 13.2335,  8.1   ],\n",
              "       [42.7123, 13.2533,  9.    ],\n",
              "       [42.7647, 13.1723,  9.7   ],\n",
              "       ...,\n",
              "       [43.0092, 13.1288,  8.    ],\n",
              "       [43.0197, 13.1017,  9.3   ],\n",
              "       [42.9935, 13.0753,  9.5   ]])"
            ]
          },
          "metadata": {},
          "execution_count": 96
        }
      ]
    },
    {
      "cell_type": "code",
      "source": [
        "y_ada = df.iloc[:,-1].values\n",
        "y_ada"
      ],
      "metadata": {
        "colab": {
          "base_uri": "https://localhost:8080/"
        },
        "id": "2IOwdYoecRBq",
        "outputId": "49b7173c-8000-46ce-a7d5-93477214cfa0"
      },
      "execution_count": null,
      "outputs": [
        {
          "output_type": "execute_result",
          "data": {
            "text/plain": [
              "array([6. , 4.5, 3.8, ..., 2.2, 2.7, 2.3])"
            ]
          },
          "metadata": {},
          "execution_count": 97
        }
      ]
    },
    {
      "cell_type": "code",
      "source": [
        "X_train_ada, X_test_ada, y_train_ada, y_test_ada = train_test_split(X_ada,y_ada,train_size=0.80, random_state=0)"
      ],
      "metadata": {
        "id": "BwcbamU4ccfR"
      },
      "execution_count": null,
      "outputs": []
    },
    {
      "cell_type": "code",
      "source": [
        "abc = AdaBoostRegressor(n_estimators=50, learning_rate=1)\n",
        "abc"
      ],
      "metadata": {
        "colab": {
          "base_uri": "https://localhost:8080/"
        },
        "id": "PrHbFG2acUJY",
        "outputId": "0f6fa691-041a-4a53-aae4-a2d5c371abcd"
      },
      "execution_count": null,
      "outputs": [
        {
          "output_type": "execute_result",
          "data": {
            "text/plain": [
              "AdaBoostRegressor(learning_rate=1)"
            ]
          },
          "metadata": {},
          "execution_count": 99
        }
      ]
    },
    {
      "cell_type": "code",
      "source": [
        "model_ada = abc.fit(X_train_ada, y_train_ada)\n",
        "model_ada"
      ],
      "metadata": {
        "colab": {
          "base_uri": "https://localhost:8080/"
        },
        "id": "KCNViaWR1gJW",
        "outputId": "57ad52f2-473a-4410-cd27-bf785492b593"
      },
      "execution_count": null,
      "outputs": [
        {
          "output_type": "execute_result",
          "data": {
            "text/plain": [
              "AdaBoostRegressor(learning_rate=1)"
            ]
          },
          "metadata": {},
          "execution_count": 100
        }
      ]
    },
    {
      "cell_type": "code",
      "source": [
        "# predict\n",
        "y_pred_ada = model_ada.predict(X_test_ada)\n",
        "y_pred_ada"
      ],
      "metadata": {
        "colab": {
          "base_uri": "https://localhost:8080/"
        },
        "id": "f3c26YvuafHG",
        "outputId": "94dae71c-f53a-4a16-f8e7-5408e4600c9f"
      },
      "execution_count": null,
      "outputs": [
        {
          "output_type": "execute_result",
          "data": {
            "text/plain": [
              "array([2.53181818, 2.58819569, 2.42865762, ..., 2.66820242, 2.41702997,\n",
              "       3.13848797])"
            ]
          },
          "metadata": {},
          "execution_count": 101
        }
      ]
    },
    {
      "cell_type": "code",
      "source": [
        "print(\"Mean Absolute Error = \",metrics.mean_absolute_error(y_test_ada,y_pred_ada))\n",
        "print(\"Mean Squared Error = \",metrics.mean_squared_error(y_test_ada,y_pred_ada))\n",
        "print('Root Mean Squared Error = ',np.sqrt(metrics.mean_squared_error(y_test_ada,y_pred_ada)))\n",
        "print(\"R Squared(R2) Error = \",metrics.r2_score(y_test_ada,y_pred_ada))"
      ],
      "metadata": {
        "colab": {
          "base_uri": "https://localhost:8080/"
        },
        "id": "U7OrFd66aqOR",
        "outputId": "07143de4-0823-43ae-fe09-ce7840abf923"
      },
      "execution_count": null,
      "outputs": [
        {
          "output_type": "stream",
          "name": "stdout",
          "text": [
            "Mean Absolute Error =  0.3754946690480118\n",
            "Mean Squared Error =  0.21098241854304775\n",
            "Root Mean Squared Error =  0.45932822528454287\n",
            "R Squared(R2) Error =  -0.14732985041476776\n"
          ]
        }
      ]
    }
  ]
}